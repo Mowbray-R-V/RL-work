{
 "cells": [
  {
   "cell_type": "code",
   "execution_count": null,
   "metadata": {},
   "outputs": [],
   "source": [
    "class SeqModule(nn.Module):\n",
    "    def __init__(self, lat_size):\n",
    "        super(SeqModule, self).__init__()\n",
    "        self.lat_size = lat_size\n",
    "        self.flatten = nn.Flatten()\n",
    "        self.bigru = nn.GRU(\n",
    "            input_size=data_file.num_features * data_file.num_lanes * 4,\n",
    "            hidden_size=lat_size,\n",
    "            num_layers=1,\n",
    "            batch_first=True,\n",
    "            bidirectional=True\n",
    "        )\n",
    "\n",
    "    def forward(self, inputs):\n",
    "        inputs = inputs.view(inputs.size(0), data_file.num_veh, -1)\n",
    "        print(inputs.size())\n",
    "        # Create mask\n",
    "        lengths = (inputs != 0).all(dim=2).sum(dim=1).cpu()\n",
    "        print(lengths)  # Calculate sequence lengths\n",
    "        packed_inputs = nn.utils.rnn.pack_padded_sequence(inputs, lengths, batch_first=True, enforce_sorted=False)\n",
    "        packed_output, hidden = self.bigru(packed_inputs)\n",
    "        output, _ = nn.utils.rnn.pad_packed_sequence(packed_output, batch_first=True)\n",
    "\n",
    "        hidden_forward = hidden[-2, :, :]\n",
    "        hidden_backward = hidden[-1, :, :]\n",
    "\n",
    "        return output, (hidden_forward, hidden_backward)\n"
   ]
  }
 ],
 "metadata": {
  "language_info": {
   "name": "python"
  }
 },
 "nbformat": 4,
 "nbformat_minor": 2
}
